{
 "cells": [
  {
   "cell_type": "code",
   "execution_count": null,
   "id": "e02962db",
   "metadata": {},
   "outputs": [
    {
     "name": "stdout",
     "output_type": "stream",
     "text": [
      "Overall feature importance:\n",
      "\n",
      "  petal width (cm): 4.917\n",
      "  petal length (cm): 4.331\n",
      "  sepal length (cm): 2.103\n",
      "  sepal width (cm): 1.959\n",
      "\n",
      "Accuracy: 0.9\n",
      "Precision: 0.8968253968253969\n",
      "Recall: 0.8791208791208792\n",
      "F1 Score: 0.886039886039886\n"
     ]
    },
    {
     "name": "stderr",
     "output_type": "stream",
     "text": [
      "C:\\Users\\aibel\\AppData\\Roaming\\Python\\Python313\\site-packages\\sklearn\\linear_model\\_logistic.py:1272: FutureWarning: 'multi_class' was deprecated in version 1.5 and will be removed in 1.8. From then on, it will always use 'multinomial'. Leave it to its default value to avoid this warning.\n",
      "  warnings.warn(\n"
     ]
    }
   ],
   "source": [
    "from sklearn.datasets import load_iris\n",
    "from sklearn.linear_model import LogisticRegression\n",
    "from sklearn.model_selection import train_test_split\n",
    "from sklearn.preprocessing import StandardScaler\n",
    "from sklearn.metrics import accuracy_score, precision_score, recall_score, f1_score\n",
    "import numpy as np\n",
    "\n",
    "iris = load_iris()\n",
    "X, y = iris.data, iris.target\n",
    "feature_names = iris.feature_names\n",
    "target_names = iris.target_names\n",
    "\n",
    "X_train, X_test, y_train, y_test = train_test_split(X, y, test_size=0.2, random_state=111)\n",
    "scaler = StandardScaler()\n",
    "X_train_scaled = scaler.fit_transform(X_train)\n",
    "X_test_scaled = scaler.transform(X_test)\n",
    "\n",
    "model = LogisticRegression(max_iter=200, multi_class=\"multinomial\")\n",
    "model.fit(X_train_scaled, y_train)\n",
    "print(\"Trained\")\n",
    "\n",
    "coef = model.coef_\n",
    "\n",
    "importance = np.sum(np.abs(coef), axis=0)\n",
    "print(\"Overall feature importance:\\n\")\n",
    "for feature_name, score in sorted(zip(feature_names, importance), key=lambda x: -x[1]):\n",
    "    print(f\"  {feature_name}: {score:.3f}\")\n",
    "\n",
    "y_pred = model.predict(X_test_scaled)\n",
    "print(\"\\nAccuracy:\", accuracy_score(y_test, y_pred))\n",
    "print(\"Precision:\", precision_score(y_test, y_pred, average=\"macro\"))\n",
    "print(\"Recall:\", recall_score(y_test, y_pred, average=\"macro\"))\n",
    "print(\"F1 Score:\", f1_score(y_test, y_pred, average=\"macro\"))\n"
   ]
  },
  {
   "cell_type": "code",
   "execution_count": 1,
   "id": "1fa44a6a",
   "metadata": {},
   "outputs": [
    {
     "name": "stdout",
     "output_type": "stream",
     "text": [
      "Predictions: [1 0 2 1 1]\n",
      "Probabilities: [[3.80003288e-03 8.27709981e-01 1.68489986e-01]\n",
      " [9.46943486e-01 5.30563152e-02 1.99071285e-07]\n",
      " [8.84349819e-09 1.54870684e-03 9.98451284e-01]\n",
      " [6.47949015e-03 7.92188507e-01 2.01332003e-01]\n",
      " [1.45577986e-03 7.74084104e-01 2.24460116e-01]]\n"
     ]
    },
    {
     "name": "stderr",
     "output_type": "stream",
     "text": [
      "C:\\Users\\aibel\\AppData\\Roaming\\Python\\Python313\\site-packages\\sklearn\\linear_model\\_logistic.py:1272: FutureWarning: 'multi_class' was deprecated in version 1.5 and will be removed in 1.8. From then on, it will always use 'multinomial'. Leave it to its default value to avoid this warning.\n",
      "  warnings.warn(\n"
     ]
    }
   ],
   "source": [
    "from sklearn.datasets import load_iris\n",
    "from sklearn.linear_model import LogisticRegression\n",
    "from sklearn.model_selection import train_test_split\n",
    "\n",
    "\n",
    "iris = load_iris()\n",
    "X, y = iris.data, iris.target\n",
    "\n",
    "\n",
    "X_train, X_test, y_train, y_test = train_test_split(X, y, random_state=42, test_size=0.2)\n",
    "\n",
    "\n",
    "model = LogisticRegression(max_iter=200, multi_class='multinomial')\n",
    "model.fit(X_train, y_train)\n",
    "\n",
    "print(\"Predictions:\", model.predict(X_test[:5]))\n",
    "print(\"Probabilities:\", model.predict_proba(X_test[:5]))\n"
   ]
  },
  {
   "cell_type": "code",
   "execution_count": null,
   "id": "0e210273",
   "metadata": {},
   "outputs": [],
   "source": []
  }
 ],
 "metadata": {
  "kernelspec": {
   "display_name": "base",
   "language": "python",
   "name": "python3"
  },
  "language_info": {
   "codemirror_mode": {
    "name": "ipython",
    "version": 3
   },
   "file_extension": ".py",
   "mimetype": "text/x-python",
   "name": "python",
   "nbconvert_exporter": "python",
   "pygments_lexer": "ipython3",
   "version": "3.13.7"
  }
 },
 "nbformat": 4,
 "nbformat_minor": 5
}
