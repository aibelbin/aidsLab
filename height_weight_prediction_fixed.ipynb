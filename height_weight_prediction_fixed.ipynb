{
 "cells": [
  {
   "cell_type": "code",
   "execution_count": null,
   "id": "2ea9b772",
   "metadata": {},
   "outputs": [],
   "source": [
    "import numpy as np\n",
    "from sklearn.linear_model import LinearRegression\n",
    "from sklearn.model_selection import train_test_split\n",
    "from sklearn.metrics import mean_absolute_error, mean_squared_error, r2_score\n",
    "import matplotlib.pyplot as plt\n",
    "import pandas as pd\n"
   ]
  },
  {
   "cell_type": "code",
   "execution_count": 3,
   "id": "265f89ef-9cdc-4ff3-893f-ed6bc0825a91",
   "metadata": {},
   "outputs": [],
   "source": [
    "data = pd.read_csv('weight-height.csv')\n",
    "X = data[['Height']].values  \n",
    "y = data['Weight'].values  "
   ]
  },
  {
   "cell_type": "code",
   "execution_count": 4,
   "id": "81a4a71f",
   "metadata": {},
   "outputs": [],
   "source": [
    "x_train, x_test, y_train, y_test = train_test_split(X, y, test_size=0.3, random_state=123)"
   ]
  },
  {
   "cell_type": "code",
   "execution_count": null,
   "id": "fdebeb5b",
   "metadata": {},
   "outputs": [],
   "source": [
    "model = LinearRegression()\n",
    "model.fit(x_train, y_train)"
   ]
  },
  {
   "cell_type": "code",
   "execution_count": 6,
   "id": "00d8d5be",
   "metadata": {},
   "outputs": [
    {
     "name": "stdout",
     "output_type": "stream",
     "text": [
      "Slope (m): 7.724066410519786\n",
      "Intercept (c): -351.2983781674882\n"
     ]
    }
   ],
   "source": [
    "slope = model.coef_[0]\n",
    "intercept = model.intercept_\n",
    "\n",
    "\n",
    "print(\"Slope (m):\", slope)\n",
    "print(\"Intercept (c):\", intercept)"
   ]
  },
  {
   "cell_type": "code",
   "execution_count": null,
   "id": "a8014c8c",
   "metadata": {},
   "outputs": [],
   "source": [
    "plt.figure(figsize=(10, 6))\n",
    "plt.scatter(x_train, y_train, color='skyblue', label='Training Data')\n",
    "plt.scatter(x_test, y_test, color='lightcoral', label='Test Data')\n",
    "\n",
    "#linespace\n",
    "line_x = np.linspace(min(x_train), max(x_train), 100).reshape(-1, 1)\n",
    "line_y = model.predict(line_x)\n",
    "plt.plot(line_x, line_y, color='darkblue', linewidth=2, label='Regression Line')\n",
    "\n",
    "\n",
    "plt.title('Height vs Weight Linear Regression')\n",
    "plt.xlabel('Height (inches)')\n",
    "plt.ylabel('Weight (pounds)')\n",
    "plt.legend()\n",
    "plt.grid(True)\n",
    "plt.tight_layout()\n",
    "plt.show()"
   ]
  },
  {
   "cell_type": "code",
   "execution_count": 17,
   "id": "7ae4ac62",
   "metadata": {},
   "outputs": [
    {
     "name": "stdout",
     "output_type": "stream",
     "text": [
      "Predicted weight: 77.90 kg\n"
     ]
    }
   ],
   "source": [
    "new_height_cm = 172\n",
    "new_height = [[new_height_cm / 2.54]]\n",
    "predicted_weight = model.predict(new_height)\n",
    "\n",
    "predicted_weight_kg = predicted_weight[0] * 0.453592\n",
    "print(f\"Predicted weight: {predicted_weight_kg:.2f} kg\")"
   ]
  },
  {
   "cell_type": "code",
   "execution_count": null,
   "id": "73a77336",
   "metadata": {},
   "outputs": [],
   "source": [
    "y_pred = model.predict(x_test)\n",
    "\n",
    "mae = mean_absolute_error(y_test, y_pred)\n",
    "mse = mean_squared_error(y_test, y_pred)\n",
    "rmse = np.sqrt(mse)\n",
    "r2 = r2_score(y_test, y_pred)\n"
   ]
  },
  {
   "cell_type": "code",
   "execution_count": null,
   "id": "49698c31",
   "metadata": {},
   "outputs": [],
   "source": []
  }
 ],
 "metadata": {
  "kernelspec": {
   "display_name": "Python 3 (ipykernel)",
   "language": "python",
   "name": "python3"
  },
  "language_info": {
   "codemirror_mode": {
    "name": "ipython",
    "version": 3
   },
   "file_extension": ".py",
   "mimetype": "text/x-python",
   "name": "python",
   "nbconvert_exporter": "python",
   "pygments_lexer": "ipython3",
   "version": "3.12.3"
  }
 },
 "nbformat": 4,
 "nbformat_minor": 5
}
