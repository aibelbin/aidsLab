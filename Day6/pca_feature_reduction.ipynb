{
 "cells": [
  {
   "cell_type": "code",
   "execution_count": null,
   "id": "6cd99eff",
   "metadata": {},
   "outputs": [
    {
     "name": "stdout",
     "output_type": "stream",
     "text": [
      "Original feature variances:\n",
      "sepal length (cm)    0.685694\n",
      "sepal width (cm)     0.189979\n",
      "petal length (cm)    3.116278\n",
      "petal width (cm)     0.581006\n",
      "dtype: float64\n",
      "Explained variance ratio (3 components):\n",
      "[0.72962445 0.22850762 0.03668922]\n",
      "Cumulative variance ratio:\n",
      "[0.72962445 0.95813207 0.99482129]\n"
     ]
    }
   ],
   "source": [
    "import numpy as np\n",
    "import pandas as pd\n",
    "from sklearn import datasets\n",
    "import seaborn as sb \n",
    "from sklearn.preprocessing import StandardScaler\n",
    "from sklearn.decomposition import PCA\n",
    "\n",
    "iris = datasets.load_iris()\n",
    "X = iris.data\n",
    "y = iris.target\n",
    "feature_names = iris.feature_names\n",
    "df = pd.DataFrame(X, columns=feature_names)\n",
    "orig_var = df.var(ddof=1)\n",
    "scaler = StandardScaler()\n",
    "X_scaled = scaler.fit_transform(X)\n",
    "pca = PCA(n_components=3)\n",
    "X_pca = pca.fit_transform(X_scaled)\n",
    "print('Original feature variances:')\n",
    "print(orig_var)\n",
    "print('Explained variance ratio (3 components):')\n",
    "print(pca.explained_variance_ratio_)\n",
    "print('Cumulative variance ratio:')\n",
    "print(np.cumsum(pca.explained_variance_ratio_))"
   ]
  },
  {
   "cell_type": "code",
   "execution_count": null,
   "id": "e14e10e1",
   "metadata": {},
   "outputs": [],
   "source": [
    "import matplotlib.pyplot as plt\n",
    "orig_cov = pd.DataFrame(np.cov(X_scaled.T), index=feature_names, columns=feature_names)\n",
    "pc_cov = pd.DataFrame(X_pca, columns=['PC1','PC2','PC3']).cov()\n",
    "fig, axs = plt.subplots(1,2, figsize=(10,4))\n",
    "sb.heatmap(orig_cov, annot=True, fmt='.2f', cmap='viridis', ax=axs[0])\n",
    "axs[0].set_title('Original Covariance')\n",
    "sb.heatmap(pc_cov, annot=True, fmt='.2f', cmap='viridis', ax=axs[1])\n",
    "axs[1].set_title('PCA Transformed Covariance')\n",
    "plt.tight_layout()\n",
    "plt.show()"
   ]
  }
 ],
 "metadata": {
  "kernelspec": {
   "display_name": ".venv",
   "language": "python",
   "name": "python3"
  },
  "language_info": {
   "codemirror_mode": {
    "name": "ipython",
    "version": 3
   },
   "file_extension": ".py",
   "mimetype": "text/x-python",
   "name": "python",
   "nbconvert_exporter": "python",
   "pygments_lexer": "ipython3",
   "version": "3.13.5"
  }
 },
 "nbformat": 4,
 "nbformat_minor": 5
}
