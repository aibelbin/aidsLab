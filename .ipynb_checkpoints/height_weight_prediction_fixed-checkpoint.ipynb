{
  "cells": [
    {
      "cell_type": "code",
      "execution_count": null,
      "metadata": {},
      "outputs": [],
      "source": [
        "import numpy as np\n",
        "from sklearn.linear_model import LinearRegression\n",
        "from sklearn.model_selection import train_test_split\n",
        "\n",
        "# Step 1: Prepare the data\n",
        "# Let's assume height (cm) vs weight (kg)\n",
        "X = np.array([150, 155, 160, 165, 170, 175, 180, 185, 190]).reshape(-1, 1)\n",
        "y = np.array([50, 53, 56, 58, 60, 65, 68, 70, 72])\n",
        "\n",
        "# Step 2: Split into train/test\n",
        "x_train, x_test, y_train, y_test = train_test_split(X, y, test_size=0.3, random_state=123)\n",
        "\n",
        "# Step 3: Train the Linear Regression model\n",
        "model = LinearRegression()\n",
        "model.fit(x_train, y_train)\n",
        "\n",
        "# Step 4: Get slope and intercept\n",
        "slope = model.coef_[0]\n",
        "intercept = model.intercept_\n",
        "\n",
        "print(\"Slope (m):\", slope)\n",
        "print(\"Intercept (c):\", intercept)\n",
        "\n",
        "# Step 5: Predict weight for a new height\n",
        "new_height = [[185]]  # height in cm\n",
        "predicted_weight = model.predict(new_height)\n",
        "\n",
        "print(f\"Predicted weight for {new_height[0][0]} cm height: {predicted_weight[0]} kg\")"
      ]
    }
  ],
  "metadata": {
    "kernelspec": {
      "display_name": "Python 3",
      "language": "python",
      "name": "python3"
    },
    "language_info": {
      "name": "python",
      "version": "3.10"
    }
  },
  "nbformat": 4,
  "nbformat_minor": 5
}