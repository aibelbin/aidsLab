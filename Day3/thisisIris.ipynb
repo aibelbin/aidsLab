{
 "cells": [
  {
   "cell_type": "code",
   "execution_count": null,
   "id": "38db0dff",
   "metadata": {},
   "outputs": [],
   "source": [
    "from sklearn.datasets import load_iris\n",
    "import matplotlib.pyplot as plt\n",
    "import pandas as pd\n",
    "\n",
    "# Load dataset\n",
    "iris = load_iris()\n",
    "X = iris.data\n",
    "y = iris.target\n",
    "feature_names = iris.feature_names\n",
    "target_names = iris.target_names\n",
    "\n",
    "# Create a DataFrame\n",
    "df = pd.DataFrame(X, columns=feature_names)\n",
    "df['species'] = [target_names[i] for i in y]\n",
    "\n",
    "# Plot petal length vs petal width\n",
    "plt.figure(figsize=(8, 6))\n",
    "for species in df['species'].unique():\n",
    "    subset = df[df['species'] == species]\n",
    "    plt.scatter(subset[feature_names[2]], subset[feature_names[3]], label=species)\n",
    "\n",
    "plt.xlabel(feature_names[2])\n",
    "plt.ylabel(feature_names[3])\n",
    "plt.title(\"🌸 Iris Dataset: Petal Length vs Petal Width\")\n",
    "plt.legend()\n",
    "plt.grid(True)\n",
    "plt.show()\n"
   ]
  }
 ],
 "metadata": {
  "language_info": {
   "name": "python"
  }
 },
 "nbformat": 4,
 "nbformat_minor": 5
}
