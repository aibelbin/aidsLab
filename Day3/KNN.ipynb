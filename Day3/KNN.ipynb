{
 "cells": [
  {
   "cell_type": "code",
   "execution_count": 6,
   "id": "4de0f6c6",
   "metadata": {},
   "outputs": [],
   "source": [
    "from collections import Counter\n",
    "from sklearn.datasets import load_iris\n",
    "from sklearn.model_selection import train_test_split\n",
    "from sklearn.metrics import classification_report, accuracy_score\n",
    "import pandas as pd\n",
    "\n",
    "import numpy as np"
   ]
  },
  {
   "cell_type": "code",
   "execution_count": 7,
   "id": "8cfbcdcf",
   "metadata": {},
   "outputs": [],
   "source": [
    "def euclidean_distance(x1, x2):\n",
    "    return np.sqrt(np.sum((x1 - x2) ** 2))"
   ]
  },
  {
   "cell_type": "code",
   "execution_count": 8,
   "id": "261e6aad",
   "metadata": {},
   "outputs": [],
   "source": [
    "def knn_predict(X_train, y_train, X_test, k=3):\n",
    "    predictions = []\n",
    "    \n",
    "    for x in X_test:\n",
    "        # Step 1: Compute distances to all training points\n",
    "        distances = [euclidean_distance(x, x_train) for x_train in X_train]\n",
    "        \n",
    "        # Step 2: Get indices of k nearest neighbors\n",
    "        k_indices = np.argsort(distances)[:k]\n",
    "        \n",
    "        # Step 3: Get the labels of the k nearest neighbors\n",
    "        k_nearest_labels = [y_train[i] for i in k_indices]\n",
    "        \n",
    "        # Step 4: Determine the most common label\n",
    "        most_common = Counter(k_nearest_labels).most_common(1)[0][0]\n",
    "        \n",
    "        # Step 5: Append prediction\n",
    "        predictions.append(most_common)\n",
    "    \n",
    "    return predictions"
   ]
  },
  {
   "cell_type": "code",
   "execution_count": 9,
   "id": "49636346",
   "metadata": {},
   "outputs": [],
   "source": [
    "while True:\n",
    "    try:\n",
    "        k = int(input(\"Enter the value of k (must be an integer > 0): \"))\n",
    "        if k > 0 and k < 9:\n",
    "            break\n",
    "        else:\n",
    "            print(\"Please enter a number between 0 and 4\")\n",
    "    except ValueError:\n",
    "        print(\"Invalid input. Please enter a valid integer.\")\n"
   ]
  },
  {
   "cell_type": "code",
   "execution_count": 10,
   "id": "cf97990c",
   "metadata": {},
   "outputs": [],
   "source": [
    "iris = load_iris()\n",
    "X, y = iris.data, iris.target\n",
    "\n",
    "# --------- Split dataset (80% train, 20% test) ---------\n",
    "X_train, X_test, y_train, y_test = train_test_split(X, y, test_size=0.2, random_state=123)\n",
    "\n",
    "# --------- Train and Predict ---------\n",
    "knn = KNN(k=k)\n",
    "knn.fit(X_train, y_train)\n",
    "predictions = knn.predict(X_test)\n",
    "\n",
    "# --------- Evaluate ---------\n",
    "correct, wrong = [], []\n",
    "\n",
    "for i in range(len(y_test)):\n",
    "    if predictions[i] == y_test[i]:\n",
    "        correct.append((X_test[i], predictions[i]))\n",
    "    else:\n",
    "        wrong.append((X_test[i], predictions[i], y_test[i]))"
   ]
  },
  {
   "cell_type": "code",
   "execution_count": 11,
   "id": "e919e336",
   "metadata": {},
   "outputs": [
    {
     "name": "stdout",
     "output_type": "stream",
     "text": [
      "\n",
      "First 3 Predictions:\n",
      "Sample 0: Predicted = 2, Actual = 1\n",
      "Sample 1: Predicted = 2, Actual = 2\n",
      "Sample 2: Predicted = 2, Actual = 2\n",
      "\n",
      "Classification Report:\n",
      "              precision  recall  f1-score  support\n",
      "setosa             1.00    1.00      1.00       13\n",
      "versicolor         1.00    0.83      0.91        6\n",
      "virginica          0.92    1.00      0.96       11\n",
      "accuracy           0.97    0.97      0.97        0\n",
      "macro avg          0.97    0.94      0.96       30\n",
      "weighted avg       0.97    0.97      0.97       30\n"
     ]
    }
   ],
   "source": [
    "\n",
    "print(\"\\nFirst 3 Predictions:\")\n",
    "for i in range(3):\n",
    "    print(f\"Sample {i}: Predicted = {predictions[i]}, Actual = {y_test[i]}\")\n",
    "\n",
    "\n",
    "report = classification_report(y_test, predictions, target_names=iris.target_names, output_dict=True)\n",
    "report_df = pd.DataFrame(report).transpose()\n",
    "\n",
    "\n",
    "report_df[['precision', 'recall', 'f1-score']] = report_df[['precision', 'recall', 'f1-score']].round(2)\n",
    "report_df['support'] = report_df['support'].astype(int)\n",
    "\n",
    "print(\"\\nClassification Report:\")\n",
    "print(report_df[['precision', 'recall', 'f1-score', 'support']])"
   ]
  },
  {
   "cell_type": "code",
   "execution_count": null,
   "id": "a2d8c99e",
   "metadata": {},
   "outputs": [],
   "source": []
  }
 ],
 "metadata": {
  "kernelspec": {
   "display_name": "Python 3 (ipykernel)",
   "language": "python",
   "name": "python3"
  }
 },
 "nbformat": 4,
 "nbformat_minor": 5
}
