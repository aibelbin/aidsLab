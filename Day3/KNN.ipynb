{
 "cells": [
  {
   "cell_type": "code",
   "execution_count": null,
   "id": "4de0f6c6",
   "metadata": {},
   "outputs": [],
   "source": [
    "from collections import Counter\n",
    "from sklearn.datasets import load_iris\n",
    "from sklearn.model_selection import train_test_split\n",
    "from sklearn.metrics import classification_report, accuracy_score\n",
    "\n",
    "import numpy as np"
   ]
  },
  {
   "cell_type": "code",
   "execution_count": 2,
   "id": "8cfbcdcf",
   "metadata": {},
   "outputs": [],
   "source": [
    "def euclidean_distance(x1, x2):\n",
    "    return np.sqrt(np.sum((x1 - x2) ** 2))"
   ]
  },
  {
   "cell_type": "code",
   "execution_count": 3,
   "id": "261e6aad",
   "metadata": {},
   "outputs": [],
   "source": [
    "class KNN:\n",
    "    def __init__(self, k=3):\n",
    "        self.k = k\n",
    "\n",
    "    def fit(self, X, y):\n",
    "        self.X_train = X\n",
    "        self.y_train = y\n",
    "\n",
    "    def predict(self, X):\n",
    "        return [self._predict(x) for x in X]\n",
    "\n",
    "    def _predict(self, x):\n",
    "        # Compute distances to all training points\n",
    "        distances = [euclidean_distance(x, x_train) for x_train in self.X_train]\n",
    "        # Get indices of k nearest neighbors\n",
    "        k_indices = np.argsort(distances)[:self.k]\n",
    "        # Get labels of k nearest\n",
    "        k_nearest_labels = [self.y_train[i] for i in k_indices]\n",
    "        # Return most common class\n",
    "        most_common = Counter(k_nearest_labels).most_common(1)\n",
    "        return most_common[0][0]\n"
   ]
  },
  {
   "cell_type": "code",
   "execution_count": 4,
   "id": "49636346",
   "metadata": {},
   "outputs": [],
   "source": [
    "while True:\n",
    "    try:\n",
    "        k = int(input(\"Enter the value of k (must be an integer > 0): \"))\n",
    "        if k > 0:\n",
    "            break\n",
    "        else:\n",
    "            print(\"Please enter a positive integer.\")\n",
    "    except ValueError:\n",
    "        print(\"Invalid input. Please enter a valid integer.\")\n"
   ]
  },
  {
   "cell_type": "code",
   "execution_count": 5,
   "id": "cf97990c",
   "metadata": {},
   "outputs": [],
   "source": [
    "iris = load_iris()\n",
    "X, y = iris.data, iris.target\n",
    "\n",
    "# --------- Split dataset (80% train, 20% test) ---------\n",
    "X_train, X_test, y_train, y_test = train_test_split(X, y, test_size=0.2, random_state=42)\n",
    "\n",
    "# --------- Train and Predict ---------\n",
    "knn = KNN(k=k)\n",
    "knn.fit(X_train, y_train)\n",
    "predictions = knn.predict(X_test)\n",
    "\n",
    "# --------- Evaluate ---------\n",
    "correct, wrong = [], []\n",
    "\n",
    "for i in range(len(y_test)):\n",
    "    if predictions[i] == y_test[i]:\n",
    "        correct.append((X_test[i], predictions[i]))\n",
    "    else:\n",
    "        wrong.append((X_test[i], predictions[i], y_test[i]))"
   ]
  },
  {
   "cell_type": "code",
   "execution_count": null,
   "id": "e919e336",
   "metadata": {},
   "outputs": [
    {
     "name": "stdout",
     "output_type": "stream",
     "text": [
      "\n",
      "✅ Correct Predictions: 30\n",
      "[✓] Sample 0: Predicted = 1, Actual = 1\n",
      "[✓] Sample 1: Predicted = 0, Actual = 0\n",
      "[✓] Sample 2: Predicted = 2, Actual = 2\n",
      "[✓] Sample 3: Predicted = 1, Actual = 1\n",
      "[✓] Sample 4: Predicted = 1, Actual = 1\n",
      "[✓] Sample 5: Predicted = 0, Actual = 0\n",
      "[✓] Sample 6: Predicted = 1, Actual = 1\n",
      "[✓] Sample 7: Predicted = 2, Actual = 2\n",
      "[✓] Sample 8: Predicted = 1, Actual = 1\n",
      "[✓] Sample 9: Predicted = 1, Actual = 1\n",
      "[✓] Sample 10: Predicted = 2, Actual = 2\n",
      "[✓] Sample 11: Predicted = 0, Actual = 0\n",
      "[✓] Sample 12: Predicted = 0, Actual = 0\n",
      "[✓] Sample 13: Predicted = 0, Actual = 0\n",
      "[✓] Sample 14: Predicted = 0, Actual = 0\n",
      "[✓] Sample 15: Predicted = 1, Actual = 1\n",
      "[✓] Sample 16: Predicted = 2, Actual = 2\n",
      "[✓] Sample 17: Predicted = 1, Actual = 1\n",
      "[✓] Sample 18: Predicted = 1, Actual = 1\n",
      "[✓] Sample 19: Predicted = 2, Actual = 2\n",
      "[✓] Sample 20: Predicted = 0, Actual = 0\n",
      "[✓] Sample 21: Predicted = 2, Actual = 2\n",
      "[✓] Sample 22: Predicted = 0, Actual = 0\n",
      "[✓] Sample 23: Predicted = 2, Actual = 2\n",
      "[✓] Sample 24: Predicted = 2, Actual = 2\n",
      "[✓] Sample 25: Predicted = 2, Actual = 2\n",
      "[✓] Sample 26: Predicted = 2, Actual = 2\n",
      "[✓] Sample 27: Predicted = 2, Actual = 2\n",
      "[✓] Sample 28: Predicted = 0, Actual = 0\n",
      "[✓] Sample 29: Predicted = 0, Actual = 0\n",
      "\n",
      "❌ Wrong Predictions: 0\n"
     ]
    }
   ],
   "source": [
    "print(f\"\\nCorrect Predictions: {len(correct)}\")\n",
    "for i, (x, pred) in enumerate(correct):\n",
    "    print(f\" Sample {i}: Predicted = {pred}, Actual = {pred}\")\n",
    "\n",
    "print(f\"\\n❌ Wrong Predictions: {len(wrong)}\")\n",
    "for i, (x, pred, actual) in enumerate(wrong):\n",
    "    print(f\"Sample {i}: Predicted = {pred}, Actual = {actual}\")\n",
    "\n",
    "# --------- Print Accuracy, Precision, Recall, F1, Support ---------\n",
    "print(\"\\nClassification Report:\")\n",
    "print(classification_report(y_test, predictions, target_names=iris.target_names))\n",
    "\n",
    "# Also print accuracy separately if you want:\n",
    "print(f\"Accuracy: {accuracy_score(y_test, predictions):.2f}\")\n"
   ]
  },
  {
   "cell_type": "code",
   "execution_count": null,
   "id": "599a1ef6",
   "metadata": {},
   "outputs": [],
   "source": []
  }
 ],
 "metadata": {
  "kernelspec": {
   "display_name": "Python 3 (ipykernel)",
   "language": "python",
   "name": "python3"
  },
  "language_info": {
   "codemirror_mode": {
    "name": "ipython",
    "version": 3
   },
   "file_extension": ".py",
   "mimetype": "text/x-python",
   "name": "python",
   "nbconvert_exporter": "python",
   "pygments_lexer": "ipython3",
   "version": "3.12.3"
  }
 },
 "nbformat": 4,
 "nbformat_minor": 5
}
