{
 "cells": [
  {
   "cell_type": "code",
   "execution_count": null,
   "id": "7a4c7446",
   "metadata": {},
   "outputs": [
    {
     "name": "stdout",
     "output_type": "stream",
     "text": [
      "Target names (classes): ['malignant' 'benign']\n"
     ]
    }
   ],
   "source": [
    "from sklearn.datasets import load_breast_cancer\n",
    "from sklearn.tree import DecisionTreeClassifier, plot_tree\n",
    "from sklearn.model_selection import train_test_split, cross_val_score\n",
    "from sklearn.metrics import accuracy_score\n",
    "from joblib import Parallel, delayed\n",
    "import matplotlib.pyplot as plt\n",
    "import numpy as np\n",
    "import warnings\n",
    "\n",
    "warnings.filterwarnings(\"ignore\")\n",
    "\n",
    "# Load dataset\n",
    "data = load_breast_cancer()\n",
    "X = data.data\n",
    "y = data.target\n",
    "\n",
    "print(\"Target names (classes):\", data.target_names)\n",
    "\n",
    "# This function evaluates every random_state and every ccp_alpha for that state\n",
    "def evaluate_random_state_and_alpha(rs):\n",
    "    X_train, X_test, y_train, y_test = train_test_split(X, y, test_size=0.3, random_state=rs)\n",
    "    clf = DecisionTreeClassifier(criterion='entropy', random_state=rs)\n",
    "    clf.fit(X_train, y_train)\n",
    "\n",
    "    path = clf.cost_complexity_pruning_path(X_train, y_train)\n",
    "    ccp_alphas = path.ccp_alphas\n",
    "\n",
    "    scores_for_alphas = []\n",
    "\n",
    "    for alpha in ccp_alphas:\n",
    "        model = DecisionTreeClassifier(criterion='entropy', random_state=rs, ccp_alpha=alpha)\n",
    "        scores = cross_val_score(model, X_train, y_train, cv=5, n_jobs=-1)\n",
    "        mean_score = scores.mean()\n",
    "        scores_for_alphas.append((rs, alpha, mean_score))\n",
    "\n",
    "    return scores_for_alphas\n",
    "\n",
    "# Run parallel evaluation across all random states\n",
    "all_results_nested = Parallel(n_jobs=-1, backend=\"loky\")(delayed(evaluate_random_state_and_alpha)(rs) for rs in range(0, 10001))\n",
    "\n",
    "# Flatten the results\n",
    "results = [item for sublist in all_results_nested for item in sublist if sublist]\n",
    "\n",
    "# Get best configuration\n",
    "best_rs, best_alpha, best_score = max(results, key=lambda x: x[2])\n",
    "\n",
    "print(f\"\\nBest Random State: {best_rs}\")\n",
    "print(f\"Best Alpha: {best_alpha:.4f}\")\n",
    "print(f\"Highest Cross-Validation Accuracy: {best_score:.4f}\")\n",
    "\n",
    "# Train final model\n",
    "X_train, X_test, y_train, y_test = train_test_split(X, y, test_size=0.3, random_state=best_rs)\n",
    "final_model = DecisionTreeClassifier(criterion='entropy', random_state=best_rs, ccp_alpha=best_alpha)\n",
    "final_model.fit(X_train, y_train)\n",
    "\n",
    "# Evaluate on test set\n",
    "y_pred = final_model.predict(X_test)\n",
    "test_accuracy = accuracy_score(y_test, y_pred)\n",
    "print(f\"Test Accuracy with Best Model: {test_accuracy:.4f}\")\n",
    "\n",
    "# Plot the tree\n",
    "plt.figure(figsize=(20, 20))\n",
    "plot_tree(final_model,\n",
    "          filled=True,\n",
    "          feature_names=data.feature_names,\n",
    "          class_names=data.target_names,\n",
    "          rounded=True,\n",
    "          fontsize=12)\n",
    "plt.title(\"Best Decision Tree with Optimized Random State and Pruning (ccp_alpha)\", fontsize=16)\n",
    "plt.tight_layout()\n",
    "plt.show()\n"
   ]
  },
  {
   "cell_type": "code",
   "execution_count": null,
   "id": "d4c40344",
   "metadata": {},
   "outputs": [],
   "source": []
  }
 ],
 "metadata": {
  "kernelspec": {
   "display_name": ".venv",
   "language": "python",
   "name": "python3"
  },
  "language_info": {
   "codemirror_mode": {
    "name": "ipython",
    "version": 3
   },
   "file_extension": ".py",
   "mimetype": "text/x-python",
   "name": "python",
   "nbconvert_exporter": "python",
   "pygments_lexer": "ipython3",
   "version": "3.12.3"
  }
 },
 "nbformat": 4,
 "nbformat_minor": 5
}
