{
 "cells": [
  {
   "cell_type": "code",
   "execution_count": null,
   "id": "7a4c7446",
   "metadata": {},
   "outputs": [
    {
     "name": "stdout",
     "output_type": "stream",
     "text": [
      "Target names (classes): ['malignant' 'benign']\n"
     ]
    }
   ],
   "source": [
    "from sklearn.datasets import load_breast_cancer\n",
    "from sklearn.tree import DecisionTreeClassifier, plot_tree\n",
    "from sklearn.model_selection import train_test_split, cross_val_score\n",
    "from sklearn.metrics import accuracy_score\n",
    "import matplotlib.pyplot as plt\n",
    "import numpy as np\n",
    "import warnings\n",
    "\n",
    "warnings.filterwarnings(\"ignore\")  # suppress convergence warnings for cleaner output\n",
    "\n",
    "# Load dataset\n",
    "data = load_breast_cancer()\n",
    "X = data.data\n",
    "y = data.target\n",
    "\n",
    "print(\"Target names (classes):\", data.target_names)\n",
    "\n",
    "best_overall_accuracy = 0\n",
    "best_random_state = 0\n",
    "best_alpha = 0.0\n",
    "best_model = None\n",
    "\n",
    "# Loop over all random states from 0 to 10000\n",
    "for rs in range(0, 10001):\n",
    "    X_train, X_test, y_train, y_test = train_test_split(X, y, test_size=0.3, random_state=rs)\n",
    "    \n",
    "    # Initial model to get pruning path\n",
    "    clf = DecisionTreeClassifier(criterion='entropy', random_state=rs)\n",
    "    clf.fit(X_train, y_train)\n",
    "    \n",
    "    path = clf.cost_complexity_pruning_path(X_train, y_train)\n",
    "    ccp_alphas = path.ccp_alphas\n",
    "    \n",
    "    alpha_scores = []\n",
    "    for alpha in ccp_alphas:\n",
    "        model = DecisionTreeClassifier(criterion='entropy', random_state=rs, ccp_alpha=alpha)\n",
    "        scores = cross_val_score(model, X_train, y_train, cv=5)\n",
    "        mean_score = scores.mean()\n",
    "        alpha_scores.append((alpha, mean_score))\n",
    "    \n",
    "    if not alpha_scores:\n",
    "        continue\n",
    "    \n",
    "    current_best_alpha, current_best_score = max(alpha_scores, key=lambda x: x[1])\n",
    "    \n",
    "    if current_best_score > best_overall_accuracy:\n",
    "        best_overall_accuracy = current_best_score\n",
    "        best_random_state = rs\n",
    "        best_alpha = current_best_alpha\n",
    "        best_model = DecisionTreeClassifier(criterion='entropy', random_state=rs, ccp_alpha=best_alpha)\n",
    "        best_model.fit(X_train, y_train)\n",
    "\n",
    "print(f\"\\n Best Random State: {best_random_state}\")\n",
    "print(f\" Best Alpha: {best_alpha:.4f}\")\n",
    "print(f\" Highest Cross-Validation Accuracy: {best_overall_accuracy:.4f}\")\n",
    "\n",
    "# Predict on test set with best model\n",
    "X_train, X_test, y_train, y_test = train_test_split(X, y, test_size=0.3, random_state=best_random_state)\n",
    "y_pred = best_model.predict(X_test)\n",
    "test_accuracy = accuracy_score(y_test, y_pred)\n",
    "print(f\" Test Accuracy with Best Model: {test_accuracy:.4f}\")\n",
    "\n",
    "# Plot best tree\n",
    "plt.figure(figsize=(20, 20))\n",
    "plot_tree(best_model,\n",
    "          filled=True,\n",
    "          feature_names=data.feature_names,\n",
    "          class_names=data.target_names,\n",
    "          rounded=True,\n",
    "          fontsize=12)\n",
    "plt.title(\"Best Decision Tree with Pruning and Optimal Random State\", fontsize=16)\n",
    "plt.tight_layout()\n",
    "plt.show()\n"
   ]
  },
  {
   "cell_type": "code",
   "execution_count": null,
   "id": "d4c40344",
   "metadata": {},
   "outputs": [],
   "source": []
  }
 ],
 "metadata": {
  "kernelspec": {
   "display_name": ".venv",
   "language": "python",
   "name": "python3"
  },
  "language_info": {
   "codemirror_mode": {
    "name": "ipython",
    "version": 3
   },
   "file_extension": ".py",
   "mimetype": "text/x-python",
   "name": "python",
   "nbconvert_exporter": "python",
   "pygments_lexer": "ipython3",
   "version": "3.12.3"
  }
 },
 "nbformat": 4,
 "nbformat_minor": 5
}
